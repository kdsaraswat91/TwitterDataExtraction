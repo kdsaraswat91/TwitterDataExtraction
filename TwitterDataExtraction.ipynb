{
 "cells": [
  {
   "cell_type": "markdown",
   "id": "2131a384",
   "metadata": {},
   "source": [
    "### Extracting Twitter Data using Snscrape for CryptoInfluencer's Tweets"
   ]
  },
  {
   "cell_type": "code",
   "execution_count": 1,
   "id": "2aac99d6",
   "metadata": {},
   "outputs": [],
   "source": [
    "#Import Required Packages\n",
    "\n",
    "import snscrape.modules.twitter as sntwitter\n",
    "from datetime import datetime, timedelta\n",
    "import pandas as pd\n",
    "import seaborn as sns\n",
    "import matplotlib.pyplot as plt\n",
    "import plotly.graph_objects as go"
   ]
  },
  {
   "cell_type": "code",
   "execution_count": 2,
   "id": "37eea76c",
   "metadata": {},
   "outputs": [],
   "source": [
    "# Creating list to append tweet data\n",
    "tweets_list = []"
   ]
  },
  {
   "cell_type": "code",
   "execution_count": 3,
   "id": "ae7c7075",
   "metadata": {},
   "outputs": [],
   "source": [
    "\n",
    "# Creating list to refer the user list and search texts\n",
    "\n",
    "user_list1 = [\"cz_binance\",\"VitalikButerin\", \"jack\",\"nayibbukele\",\"saylor\"]\n",
    "user_list2 = [\"MMCrypto\",\"TheMoonCarl\",\"brian_armstrong\",\"SatoshiLite\",\"woonomic\"]\n",
    "user_list3 = [\"aantonop\",\"elliotrades\",\"WClementeIII\",\"danheld\",\"PeterMcCormack\"]\n",
    "user_list4 = [\"IvanOnTech\",\"CryptoHayes\",\"jackmallers\",\"CryptoWendyO\",\"DylanLeClair_\"]\n",
    "user_list5 = [\"scottmelker\",\"RaoulGMI\",\"novogratz\",\"Excellion\",\"DefiIgnas\"]\n",
    "user_list6 = [\"natbrunell\",\"maxkeiser\",\"glassnode\",\"TheCryptoLark\",\"100trillionUSD\",\"APompliano\"]\n",
    "\n",
    "search_text = [\"bitcoin\", \"Bitcoin\",\"BTC\",\"Crypto\",\"ETH\",\"Ethereum\", \"ethereum\"]\n"
   ]
  },
  {
   "cell_type": "code",
   "execution_count": 9,
   "id": "16e77c98",
   "metadata": {},
   "outputs": [
    {
     "name": "stderr",
     "output_type": "stream",
     "text": [
      "/var/folders/qb/dvn_6xsj0t75hl1y1_j9r9t80000gn/T/ipykernel_32868/168685821.py:4: DeprecatedFeatureWarning: `top` argument is deprecated, use `mode = snscrape.modules.twitter.TwitterSearchScraperMode.TOP` instead of `top = True`\n",
      "  for i,tweet in enumerate(sntwitter.TwitterSearchScraper('Bitcoin since:2022-01-01 until:2022-12-31 from: natbrunell', top=True).get_items()):\n",
      "Error retrieving https://api.twitter.com/2/search/adaptive.json?include_profile_interstitial_type=1&include_blocking=1&include_blocked_by=1&include_followed_by=1&include_want_retweets=1&include_mute_edge=1&include_can_dm=1&include_can_media_tag=1&include_ext_has_nft_avatar=1&include_ext_is_blue_verified=1&include_ext_verified_type=1&skip_status=1&cards_platform=Web-12&include_cards=1&include_ext_alt_text=true&include_ext_limited_action_results=false&include_quote_count=true&include_reply_count=1&tweet_mode=extended&include_ext_collab_control=true&include_ext_views=true&include_entities=true&include_user_entities=true&include_ext_media_color=true&include_ext_media_availability=true&include_ext_sensitive_media_warning=true&include_ext_trusted_friends_metadata=true&send_error_codes=true&simple_quoted_tweet=true&q=Bitcoin+since%3A2022-01-01+until%3A2022-12-31+from%3A+natbrunell&count=20&query_source=spelling_expansion_revert_click&cursor=DAACCgACFrCdoefAJxAKAAMWsJ2h57zywAgABAAAAAILAAUAAAO8QUFBQUFDNk5zd2dBQUFCa0FBQUFBQUFBRlh3QUFBQUhBQUFBVmdBQU1BQVJJQUZNR1FDQUFBQUFJUVFBSXlBQkNvQkFBQUFLQUFSUUFBQUFRS0FCc0lvSXBBUUFOQ0FaQUFnZ1FBQ0FCQUFBQkF3QUFCRUFBQWlCc1JSRWhCQWlGQWdBd2tFaWdBU0FBQUJnQ0NJQ1FBZ0FBQW9FU0NBQWdBZ29LQUFHQVFRUUFBQVNnSUFDQVFBQUNBQUJBQ1FnQVFJQUFFbFFFQVFCQUlDd0FnQUFnQUFBQUFnQUFBUVFBRUFCQVVBQ0pnQUFBQUFBQUJRQUFBQWdBQUNBS0JHUVFBSWdSQkFJQUNBQUFBSVFBQUFrQUFBRUNRQUFrSUFZS1FBWUFBUUVDQWcwSUVRQUFCZ0FBUVFBQ0FFQUFBU0JRQUlBQ1FFZ0lBQVFrQUFRQUFBQUFDSkFBRVFBSHdBQ0FDQUFBQVFBSUFJQWdJRUFBaENBUUFFQkFBQWRDQUFKRUlFQUFDSUNBSUNBUUFFQUFCTVFCQUlRQUlBQUFnQVFJUUFVQVFBRVFBZ2dBQkFpQ0JDQUVBQ0FBRUFBQUU1QUFCTUFTQUFCQkFBQUFpQUFBQUVnQkpJZ0FBWUFBb0FnRUJJd09BQVFFQWdDQUFoZ0FCQUJCUVpBQUFFQ0FFQUFJQUFBQ0FBSkNBSUFDRkNFSUFBZ0FBQVFCd0FHQUFBQ0FBQWdBQUJBU0FDSUlBZ1NFSUFJREJJd2dBQWdrQ0dCSVFJQWdBSTRVQUFCcENBS0lBQkFFQUFnZ0NFRUNBUXhRQkNBT0FFQ0FBZ2dEQUFCQVJnQVFVQUFDSUVBSUFKQUFBZ2pBQUFZQUFBQ2dBQUFBQ0lBUk1Jc0FCS0FzQUFBZ0FBQWdBQ0FBQWdBd0JDQUdCZ1lBQVFEQ0NCd2tBQ0RBUVFBQUFBQUFDQUFSQWdCQUFBZ0FBRUFRQUZBQ1lDQUF3QUFnSUVnVEFBQUFBQUFBS0FJQUNFQUFJSUFBaUFRS0FNUUFBQUNBQlJBRkdBSUFBd0FFeEFRQUFBQkFBRkFBQkFTSUFBUUFnQlFBQUFFQ2dFQUFBSkFBQUlvQ1JDQUFRQ0VBQUJSQUJDSUFDQUNBQUFBQ0FCQUFBRW9nQUFBQUFCQUFRQUNRUkNBVFFJQVVJRUFJaUFnQUVFQkFFZ0dBQUFBQUFBQVFVQUNBQ0NBWXdBRUFBQWdoQUNDWUlNQWdRTUJnUW9CQUFFQUJBb0FBQ0FBZ0FBQUZnQT0IAAYAAAAACAAHAAAAEwwACAoAARUeVt2KFGAAAAAA&pc=1&spelling_corrections=1&include_ext_edit_control=true&ext=mediaStats%2ChighlightedLabel%2ChasNftAvatar%2CvoiceInfo%2Cenrichments%2CsuperFollowMetadata%2CunmentionInfo%2CeditControl%2Ccollab_control%2Cvibe: ReadTimeout(ReadTimeoutError(\"HTTPSConnectionPool(host='api.twitter.com', port=443): Read timed out. (read timeout=10)\"))\n",
      "4 requests to https://api.twitter.com/2/search/adaptive.json?include_profile_interstitial_type=1&include_blocking=1&include_blocked_by=1&include_followed_by=1&include_want_retweets=1&include_mute_edge=1&include_can_dm=1&include_can_media_tag=1&include_ext_has_nft_avatar=1&include_ext_is_blue_verified=1&include_ext_verified_type=1&skip_status=1&cards_platform=Web-12&include_cards=1&include_ext_alt_text=true&include_ext_limited_action_results=false&include_quote_count=true&include_reply_count=1&tweet_mode=extended&include_ext_collab_control=true&include_ext_views=true&include_entities=true&include_user_entities=true&include_ext_media_color=true&include_ext_media_availability=true&include_ext_sensitive_media_warning=true&include_ext_trusted_friends_metadata=true&send_error_codes=true&simple_quoted_tweet=true&q=Bitcoin+since%3A2022-01-01+until%3A2022-12-31+from%3A+natbrunell&count=20&query_source=spelling_expansion_revert_click&cursor=DAACCgACFrCdoefAJxAKAAMWsJ2h57zywAgABAAAAAILAAUAAAO8QUFBQUFDNk5zd2dBQUFCa0FBQUFBQUFBRlh3QUFBQUhBQUFBVmdBQU1BQVJJQUZNR1FDQUFBQUFJUVFBSXlBQkNvQkFBQUFLQUFSUUFBQUFRS0FCc0lvSXBBUUFOQ0FaQUFnZ1FBQ0FCQUFBQkF3QUFCRUFBQWlCc1JSRWhCQWlGQWdBd2tFaWdBU0FBQUJnQ0NJQ1FBZ0FBQW9FU0NBQWdBZ29LQUFHQVFRUUFBQVNnSUFDQVFBQUNBQUJBQ1FnQVFJQUFFbFFFQVFCQUlDd0FnQUFnQUFBQUFnQUFBUVFBRUFCQVVBQ0pnQUFBQUFBQUJRQUFBQWdBQUNBS0JHUVFBSWdSQkFJQUNBQUFBSVFBQUFrQUFBRUNRQUFrSUFZS1FBWUFBUUVDQWcwSUVRQUFCZ0FBUVFBQ0FFQUFBU0JRQUlBQ1FFZ0lBQVFrQUFRQUFBQUFDSkFBRVFBSHdBQ0FDQUFBQVFBSUFJQWdJRUFBaENBUUFFQkFBQWRDQUFKRUlFQUFDSUNBSUNBUUFFQUFCTVFCQUlRQUlBQUFnQVFJUUFVQVFBRVFBZ2dBQkFpQ0JDQUVBQ0FBRUFBQUU1QUFCTUFTQUFCQkFBQUFpQUFBQUVnQkpJZ0FBWUFBb0FnRUJJd09BQVFFQWdDQUFoZ0FCQUJCUVpBQUFFQ0FFQUFJQUFBQ0FBSkNBSUFDRkNFSUFBZ0FBQVFCd0FHQUFBQ0FBQWdBQUJBU0FDSUlBZ1NFSUFJREJJd2dBQWdrQ0dCSVFJQWdBSTRVQUFCcENBS0lBQkFFQUFnZ0NFRUNBUXhRQkNBT0FFQ0FBZ2dEQUFCQVJnQVFVQUFDSUVBSUFKQUFBZ2pBQUFZQUFBQ2dBQUFBQ0lBUk1Jc0FCS0FzQUFBZ0FBQWdBQ0FBQWdBd0JDQUdCZ1lBQVFEQ0NCd2tBQ0RBUVFBQUFBQUFDQUFSQWdCQUFBZ0FBRUFRQUZBQ1lDQUF3QUFnSUVnVEFBQUFBQUFBS0FJQUNFQUFJSUFBaUFRS0FNUUFBQUNBQlJBRkdBSUFBd0FFeEFRQUFBQkFBRkFBQkFTSUFBUUFnQlFBQUFFQ2dFQUFBSkFBQUlvQ1JDQUFRQ0VBQUJSQUJDSUFDQUNBQUFBQ0FCQUFBRW9nQUFBQUFCQUFRQUNRUkNBVFFJQVVJRUFJaUFnQUVFQkFFZ0dBQUFBQUFBQVFVQUNBQ0NBWXdBRUFBQWdoQUNDWUlNQWdRTUJnUW9CQUFFQUJBb0FBQ0FBZ0FBQUZnQT0IAAYAAAAACAAHAAAAEwwACAoAARUeVt2KFGAAAAAA&pc=1&spelling_corrections=1&include_ext_edit_control=true&ext=mediaStats%2ChighlightedLabel%2ChasNftAvatar%2CvoiceInfo%2Cenrichments%2CsuperFollowMetadata%2CunmentionInfo%2CeditControl%2Ccollab_control%2Cvibe failed, giving up.\n",
      "Errors: ReadTimeout(ReadTimeoutError(\"HTTPSConnectionPool(host='api.twitter.com', port=443): Read timed out. (read timeout=10)\")), ReadTimeout(ReadTimeoutError(\"HTTPSConnectionPool(host='api.twitter.com', port=443): Read timed out. (read timeout=10)\")), ReadTimeout(ReadTimeoutError(\"HTTPSConnectionPool(host='api.twitter.com', port=443): Read timed out. (read timeout=10)\")), ReadTimeout(ReadTimeoutError(\"HTTPSConnectionPool(host='api.twitter.com', port=443): Read timed out. (read timeout=10)\"))\n"
     ]
    },
    {
     "ename": "ScraperException",
     "evalue": "4 requests to https://api.twitter.com/2/search/adaptive.json?include_profile_interstitial_type=1&include_blocking=1&include_blocked_by=1&include_followed_by=1&include_want_retweets=1&include_mute_edge=1&include_can_dm=1&include_can_media_tag=1&include_ext_has_nft_avatar=1&include_ext_is_blue_verified=1&include_ext_verified_type=1&skip_status=1&cards_platform=Web-12&include_cards=1&include_ext_alt_text=true&include_ext_limited_action_results=false&include_quote_count=true&include_reply_count=1&tweet_mode=extended&include_ext_collab_control=true&include_ext_views=true&include_entities=true&include_user_entities=true&include_ext_media_color=true&include_ext_media_availability=true&include_ext_sensitive_media_warning=true&include_ext_trusted_friends_metadata=true&send_error_codes=true&simple_quoted_tweet=true&q=Bitcoin+since%3A2022-01-01+until%3A2022-12-31+from%3A+natbrunell&count=20&query_source=spelling_expansion_revert_click&cursor=DAACCgACFrCdoefAJxAKAAMWsJ2h57zywAgABAAAAAILAAUAAAO8QUFBQUFDNk5zd2dBQUFCa0FBQUFBQUFBRlh3QUFBQUhBQUFBVmdBQU1BQVJJQUZNR1FDQUFBQUFJUVFBSXlBQkNvQkFBQUFLQUFSUUFBQUFRS0FCc0lvSXBBUUFOQ0FaQUFnZ1FBQ0FCQUFBQkF3QUFCRUFBQWlCc1JSRWhCQWlGQWdBd2tFaWdBU0FBQUJnQ0NJQ1FBZ0FBQW9FU0NBQWdBZ29LQUFHQVFRUUFBQVNnSUFDQVFBQUNBQUJBQ1FnQVFJQUFFbFFFQVFCQUlDd0FnQUFnQUFBQUFnQUFBUVFBRUFCQVVBQ0pnQUFBQUFBQUJRQUFBQWdBQUNBS0JHUVFBSWdSQkFJQUNBQUFBSVFBQUFrQUFBRUNRQUFrSUFZS1FBWUFBUUVDQWcwSUVRQUFCZ0FBUVFBQ0FFQUFBU0JRQUlBQ1FFZ0lBQVFrQUFRQUFBQUFDSkFBRVFBSHdBQ0FDQUFBQVFBSUFJQWdJRUFBaENBUUFFQkFBQWRDQUFKRUlFQUFDSUNBSUNBUUFFQUFCTVFCQUlRQUlBQUFnQVFJUUFVQVFBRVFBZ2dBQkFpQ0JDQUVBQ0FBRUFBQUU1QUFCTUFTQUFCQkFBQUFpQUFBQUVnQkpJZ0FBWUFBb0FnRUJJd09BQVFFQWdDQUFoZ0FCQUJCUVpBQUFFQ0FFQUFJQUFBQ0FBSkNBSUFDRkNFSUFBZ0FBQVFCd0FHQUFBQ0FBQWdBQUJBU0FDSUlBZ1NFSUFJREJJd2dBQWdrQ0dCSVFJQWdBSTRVQUFCcENBS0lBQkFFQUFnZ0NFRUNBUXhRQkNBT0FFQ0FBZ2dEQUFCQVJnQVFVQUFDSUVBSUFKQUFBZ2pBQUFZQUFBQ2dBQUFBQ0lBUk1Jc0FCS0FzQUFBZ0FBQWdBQ0FBQWdBd0JDQUdCZ1lBQVFEQ0NCd2tBQ0RBUVFBQUFBQUFDQUFSQWdCQUFBZ0FBRUFRQUZBQ1lDQUF3QUFnSUVnVEFBQUFBQUFBS0FJQUNFQUFJSUFBaUFRS0FNUUFBQUNBQlJBRkdBSUFBd0FFeEFRQUFBQkFBRkFBQkFTSUFBUUFnQlFBQUFFQ2dFQUFBSkFBQUlvQ1JDQUFRQ0VBQUJSQUJDSUFDQUNBQUFBQ0FCQUFBRW9nQUFBQUFCQUFRQUNRUkNBVFFJQVVJRUFJaUFnQUVFQkFFZ0dBQUFBQUFBQVFVQUNBQ0NBWXdBRUFBQWdoQUNDWUlNQWdRTUJnUW9CQUFFQUJBb0FBQ0FBZ0FBQUZnQT0IAAYAAAAACAAHAAAAEwwACAoAARUeVt2KFGAAAAAA&pc=1&spelling_corrections=1&include_ext_edit_control=true&ext=mediaStats%2ChighlightedLabel%2ChasNftAvatar%2CvoiceInfo%2Cenrichments%2CsuperFollowMetadata%2CunmentionInfo%2CeditControl%2Ccollab_control%2Cvibe failed, giving up.",
     "output_type": "error",
     "traceback": [
      "\u001b[0;31m---------------------------------------------------------------------------\u001b[0m",
      "\u001b[0;31mScraperException\u001b[0m                          Traceback (most recent call last)",
      "\u001b[0;32m/var/folders/qb/dvn_6xsj0t75hl1y1_j9r9t80000gn/T/ipykernel_32868/168685821.py\u001b[0m in \u001b[0;36m<module>\u001b[0;34m\u001b[0m\n\u001b[1;32m      2\u001b[0m \u001b[0;34m\u001b[0m\u001b[0m\n\u001b[1;32m      3\u001b[0m \u001b[0;31m# Using TwitterSearchScraper to scrape data and append tweets to list\u001b[0m\u001b[0;34m\u001b[0m\u001b[0;34m\u001b[0m\u001b[0m\n\u001b[0;32m----> 4\u001b[0;31m \u001b[0;32mfor\u001b[0m \u001b[0mi\u001b[0m\u001b[0;34m,\u001b[0m\u001b[0mtweet\u001b[0m \u001b[0;32min\u001b[0m \u001b[0menumerate\u001b[0m\u001b[0;34m(\u001b[0m\u001b[0msntwitter\u001b[0m\u001b[0;34m.\u001b[0m\u001b[0mTwitterSearchScraper\u001b[0m\u001b[0;34m(\u001b[0m\u001b[0;34m'Bitcoin since:2022-01-01 until:2022-12-31 from: natbrunell'\u001b[0m\u001b[0;34m,\u001b[0m \u001b[0mtop\u001b[0m\u001b[0;34m=\u001b[0m\u001b[0;32mTrue\u001b[0m\u001b[0;34m)\u001b[0m\u001b[0;34m.\u001b[0m\u001b[0mget_items\u001b[0m\u001b[0;34m(\u001b[0m\u001b[0;34m)\u001b[0m\u001b[0;34m)\u001b[0m\u001b[0;34m:\u001b[0m\u001b[0;34m\u001b[0m\u001b[0;34m\u001b[0m\u001b[0m\n\u001b[0m\u001b[1;32m      5\u001b[0m     \u001b[0;32mif\u001b[0m \u001b[0mi\u001b[0m\u001b[0;34m>\u001b[0m\u001b[0;36m1000\u001b[0m\u001b[0;34m:\u001b[0m\u001b[0;34m\u001b[0m\u001b[0;34m\u001b[0m\u001b[0m\n\u001b[1;32m      6\u001b[0m         \u001b[0;32mbreak\u001b[0m\u001b[0;34m\u001b[0m\u001b[0;34m\u001b[0m\u001b[0m\n",
      "\u001b[0;32m~/opt/anaconda3/lib/python3.9/site-packages/snscrape/modules/twitter.py\u001b[0m in \u001b[0;36mget_items\u001b[0;34m(self)\u001b[0m\n\u001b[1;32m   1655\u001b[0m                 \u001b[0;32mdel\u001b[0m \u001b[0mparams\u001b[0m\u001b[0;34m[\u001b[0m\u001b[0;34m'cursor'\u001b[0m\u001b[0;34m]\u001b[0m\u001b[0;34m\u001b[0m\u001b[0;34m\u001b[0m\u001b[0m\n\u001b[1;32m   1656\u001b[0m \u001b[0;34m\u001b[0m\u001b[0m\n\u001b[0;32m-> 1657\u001b[0;31m                 \u001b[0;32mfor\u001b[0m \u001b[0mobj\u001b[0m \u001b[0;32min\u001b[0m \u001b[0mself\u001b[0m\u001b[0;34m.\u001b[0m\u001b[0m_iter_api_data\u001b[0m\u001b[0;34m(\u001b[0m\u001b[0;34m'https://api.twitter.com/2/search/adaptive.json'\u001b[0m\u001b[0;34m,\u001b[0m \u001b[0m_TwitterAPIType\u001b[0m\u001b[0;34m.\u001b[0m\u001b[0mV2\u001b[0m\u001b[0;34m,\u001b[0m \u001b[0mparams\u001b[0m\u001b[0;34m,\u001b[0m \u001b[0mpaginationParams\u001b[0m\u001b[0;34m,\u001b[0m \u001b[0mcursor\u001b[0m \u001b[0;34m=\u001b[0m \u001b[0mself\u001b[0m\u001b[0;34m.\u001b[0m\u001b[0m_cursor\u001b[0m\u001b[0;34m)\u001b[0m\u001b[0;34m:\u001b[0m\u001b[0;34m\u001b[0m\u001b[0;34m\u001b[0m\u001b[0m\n\u001b[0m\u001b[1;32m   1658\u001b[0m                         \u001b[0;32myield\u001b[0m \u001b[0;32mfrom\u001b[0m \u001b[0mself\u001b[0m\u001b[0;34m.\u001b[0m\u001b[0m_v2_timeline_instructions_to_tweets_or_users\u001b[0m\u001b[0;34m(\u001b[0m\u001b[0mobj\u001b[0m\u001b[0;34m)\u001b[0m\u001b[0;34m\u001b[0m\u001b[0;34m\u001b[0m\u001b[0m\n\u001b[1;32m   1659\u001b[0m \u001b[0;34m\u001b[0m\u001b[0m\n",
      "\u001b[0;32m~/opt/anaconda3/lib/python3.9/site-packages/snscrape/modules/twitter.py\u001b[0m in \u001b[0;36m_iter_api_data\u001b[0;34m(self, endpoint, apiType, params, paginationParams, cursor, direction)\u001b[0m\n\u001b[1;32m    759\u001b[0m                 \u001b[0;32mwhile\u001b[0m \u001b[0;32mTrue\u001b[0m\u001b[0;34m:\u001b[0m\u001b[0;34m\u001b[0m\u001b[0;34m\u001b[0m\u001b[0m\n\u001b[1;32m    760\u001b[0m                         \u001b[0m_logger\u001b[0m\u001b[0;34m.\u001b[0m\u001b[0minfo\u001b[0m\u001b[0;34m(\u001b[0m\u001b[0;34mf'Retrieving scroll page {cursor}'\u001b[0m\u001b[0;34m)\u001b[0m\u001b[0;34m\u001b[0m\u001b[0;34m\u001b[0m\u001b[0m\n\u001b[0;32m--> 761\u001b[0;31m                         \u001b[0mobj\u001b[0m \u001b[0;34m=\u001b[0m \u001b[0mself\u001b[0m\u001b[0;34m.\u001b[0m\u001b[0m_get_api_data\u001b[0m\u001b[0;34m(\u001b[0m\u001b[0mendpoint\u001b[0m\u001b[0;34m,\u001b[0m \u001b[0mapiType\u001b[0m\u001b[0;34m,\u001b[0m \u001b[0mreqParams\u001b[0m\u001b[0;34m)\u001b[0m\u001b[0;34m\u001b[0m\u001b[0;34m\u001b[0m\u001b[0m\n\u001b[0m\u001b[1;32m    762\u001b[0m                         \u001b[0;32myield\u001b[0m \u001b[0mobj\u001b[0m\u001b[0;34m\u001b[0m\u001b[0;34m\u001b[0m\u001b[0m\n\u001b[1;32m    763\u001b[0m \u001b[0;34m\u001b[0m\u001b[0m\n",
      "\u001b[0;32m~/opt/anaconda3/lib/python3.9/site-packages/snscrape/modules/twitter.py\u001b[0m in \u001b[0;36m_get_api_data\u001b[0;34m(self, endpoint, apiType, params)\u001b[0m\n\u001b[1;32m    725\u001b[0m                 \u001b[0;32mif\u001b[0m \u001b[0mapiType\u001b[0m \u001b[0;32mis\u001b[0m \u001b[0m_TwitterAPIType\u001b[0m\u001b[0;34m.\u001b[0m\u001b[0mGRAPHQL\u001b[0m\u001b[0;34m:\u001b[0m\u001b[0;34m\u001b[0m\u001b[0;34m\u001b[0m\u001b[0m\n\u001b[1;32m    726\u001b[0m                         \u001b[0mparams\u001b[0m \u001b[0;34m=\u001b[0m \u001b[0murllib\u001b[0m\u001b[0;34m.\u001b[0m\u001b[0mparse\u001b[0m\u001b[0;34m.\u001b[0m\u001b[0murlencode\u001b[0m\u001b[0;34m(\u001b[0m\u001b[0;34m{\u001b[0m\u001b[0mk\u001b[0m\u001b[0;34m:\u001b[0m \u001b[0mjson\u001b[0m\u001b[0;34m.\u001b[0m\u001b[0mdumps\u001b[0m\u001b[0;34m(\u001b[0m\u001b[0mv\u001b[0m\u001b[0;34m,\u001b[0m \u001b[0mseparators\u001b[0m \u001b[0;34m=\u001b[0m \u001b[0;34m(\u001b[0m\u001b[0;34m','\u001b[0m\u001b[0;34m,\u001b[0m \u001b[0;34m':'\u001b[0m\u001b[0;34m)\u001b[0m\u001b[0;34m)\u001b[0m \u001b[0;32mfor\u001b[0m \u001b[0mk\u001b[0m\u001b[0;34m,\u001b[0m \u001b[0mv\u001b[0m \u001b[0;32min\u001b[0m \u001b[0mparams\u001b[0m\u001b[0;34m.\u001b[0m\u001b[0mitems\u001b[0m\u001b[0;34m(\u001b[0m\u001b[0;34m)\u001b[0m\u001b[0;34m}\u001b[0m\u001b[0;34m,\u001b[0m \u001b[0mquote_via\u001b[0m \u001b[0;34m=\u001b[0m \u001b[0murllib\u001b[0m\u001b[0;34m.\u001b[0m\u001b[0mparse\u001b[0m\u001b[0;34m.\u001b[0m\u001b[0mquote\u001b[0m\u001b[0;34m)\u001b[0m\u001b[0;34m\u001b[0m\u001b[0;34m\u001b[0m\u001b[0m\n\u001b[0;32m--> 727\u001b[0;31m                 \u001b[0mr\u001b[0m \u001b[0;34m=\u001b[0m \u001b[0mself\u001b[0m\u001b[0;34m.\u001b[0m\u001b[0m_get\u001b[0m\u001b[0;34m(\u001b[0m\u001b[0mendpoint\u001b[0m\u001b[0;34m,\u001b[0m \u001b[0mparams\u001b[0m \u001b[0;34m=\u001b[0m \u001b[0mparams\u001b[0m\u001b[0;34m,\u001b[0m \u001b[0mheaders\u001b[0m \u001b[0;34m=\u001b[0m \u001b[0mself\u001b[0m\u001b[0;34m.\u001b[0m\u001b[0m_apiHeaders\u001b[0m\u001b[0;34m,\u001b[0m \u001b[0mresponseOkCallback\u001b[0m \u001b[0;34m=\u001b[0m \u001b[0mself\u001b[0m\u001b[0;34m.\u001b[0m\u001b[0m_check_api_response\u001b[0m\u001b[0;34m)\u001b[0m\u001b[0;34m\u001b[0m\u001b[0;34m\u001b[0m\u001b[0m\n\u001b[0m\u001b[1;32m    728\u001b[0m                 \u001b[0;32mtry\u001b[0m\u001b[0;34m:\u001b[0m\u001b[0;34m\u001b[0m\u001b[0;34m\u001b[0m\u001b[0m\n\u001b[1;32m    729\u001b[0m                         \u001b[0mobj\u001b[0m \u001b[0;34m=\u001b[0m \u001b[0mr\u001b[0m\u001b[0;34m.\u001b[0m\u001b[0mjson\u001b[0m\u001b[0;34m(\u001b[0m\u001b[0;34m)\u001b[0m\u001b[0;34m\u001b[0m\u001b[0;34m\u001b[0m\u001b[0m\n",
      "\u001b[0;32m~/opt/anaconda3/lib/python3.9/site-packages/snscrape/base.py\u001b[0m in \u001b[0;36m_get\u001b[0;34m(self, *args, **kwargs)\u001b[0m\n\u001b[1;32m    249\u001b[0m \u001b[0;34m\u001b[0m\u001b[0m\n\u001b[1;32m    250\u001b[0m         \u001b[0;32mdef\u001b[0m \u001b[0m_get\u001b[0m\u001b[0;34m(\u001b[0m\u001b[0mself\u001b[0m\u001b[0;34m,\u001b[0m \u001b[0;34m*\u001b[0m\u001b[0margs\u001b[0m\u001b[0;34m,\u001b[0m \u001b[0;34m**\u001b[0m\u001b[0mkwargs\u001b[0m\u001b[0;34m)\u001b[0m\u001b[0;34m:\u001b[0m\u001b[0;34m\u001b[0m\u001b[0;34m\u001b[0m\u001b[0m\n\u001b[0;32m--> 251\u001b[0;31m                 \u001b[0;32mreturn\u001b[0m \u001b[0mself\u001b[0m\u001b[0;34m.\u001b[0m\u001b[0m_request\u001b[0m\u001b[0;34m(\u001b[0m\u001b[0;34m'GET'\u001b[0m\u001b[0;34m,\u001b[0m \u001b[0;34m*\u001b[0m\u001b[0margs\u001b[0m\u001b[0;34m,\u001b[0m \u001b[0;34m**\u001b[0m\u001b[0mkwargs\u001b[0m\u001b[0;34m)\u001b[0m\u001b[0;34m\u001b[0m\u001b[0;34m\u001b[0m\u001b[0m\n\u001b[0m\u001b[1;32m    252\u001b[0m \u001b[0;34m\u001b[0m\u001b[0m\n\u001b[1;32m    253\u001b[0m         \u001b[0;32mdef\u001b[0m \u001b[0m_post\u001b[0m\u001b[0;34m(\u001b[0m\u001b[0mself\u001b[0m\u001b[0;34m,\u001b[0m \u001b[0;34m*\u001b[0m\u001b[0margs\u001b[0m\u001b[0;34m,\u001b[0m \u001b[0;34m**\u001b[0m\u001b[0mkwargs\u001b[0m\u001b[0;34m)\u001b[0m\u001b[0;34m:\u001b[0m\u001b[0;34m\u001b[0m\u001b[0;34m\u001b[0m\u001b[0m\n",
      "\u001b[0;32m~/opt/anaconda3/lib/python3.9/site-packages/snscrape/base.py\u001b[0m in \u001b[0;36m_request\u001b[0;34m(self, method, url, params, data, headers, timeout, responseOkCallback, allowRedirects, proxies)\u001b[0m\n\u001b[1;32m    245\u001b[0m                         \u001b[0m_logger\u001b[0m\u001b[0;34m.\u001b[0m\u001b[0mfatal\u001b[0m\u001b[0;34m(\u001b[0m\u001b[0mmsg\u001b[0m\u001b[0;34m)\u001b[0m\u001b[0;34m\u001b[0m\u001b[0;34m\u001b[0m\u001b[0m\n\u001b[1;32m    246\u001b[0m                         \u001b[0m_logger\u001b[0m\u001b[0;34m.\u001b[0m\u001b[0mfatal\u001b[0m\u001b[0;34m(\u001b[0m\u001b[0;34mf'Errors: {\", \".join(errors)}'\u001b[0m\u001b[0;34m)\u001b[0m\u001b[0;34m\u001b[0m\u001b[0;34m\u001b[0m\u001b[0m\n\u001b[0;32m--> 247\u001b[0;31m                         \u001b[0;32mraise\u001b[0m \u001b[0mScraperException\u001b[0m\u001b[0;34m(\u001b[0m\u001b[0mmsg\u001b[0m\u001b[0;34m)\u001b[0m\u001b[0;34m\u001b[0m\u001b[0;34m\u001b[0m\u001b[0m\n\u001b[0m\u001b[1;32m    248\u001b[0m                 \u001b[0;32mraise\u001b[0m \u001b[0mRuntimeError\u001b[0m\u001b[0;34m(\u001b[0m\u001b[0;34m'Reached unreachable code'\u001b[0m\u001b[0;34m)\u001b[0m\u001b[0;34m\u001b[0m\u001b[0;34m\u001b[0m\u001b[0m\n\u001b[1;32m    249\u001b[0m \u001b[0;34m\u001b[0m\u001b[0m\n",
      "\u001b[0;31mScraperException\u001b[0m: 4 requests to https://api.twitter.com/2/search/adaptive.json?include_profile_interstitial_type=1&include_blocking=1&include_blocked_by=1&include_followed_by=1&include_want_retweets=1&include_mute_edge=1&include_can_dm=1&include_can_media_tag=1&include_ext_has_nft_avatar=1&include_ext_is_blue_verified=1&include_ext_verified_type=1&skip_status=1&cards_platform=Web-12&include_cards=1&include_ext_alt_text=true&include_ext_limited_action_results=false&include_quote_count=true&include_reply_count=1&tweet_mode=extended&include_ext_collab_control=true&include_ext_views=true&include_entities=true&include_user_entities=true&include_ext_media_color=true&include_ext_media_availability=true&include_ext_sensitive_media_warning=true&include_ext_trusted_friends_metadata=true&send_error_codes=true&simple_quoted_tweet=true&q=Bitcoin+since%3A2022-01-01+until%3A2022-12-31+from%3A+natbrunell&count=20&query_source=spelling_expansion_revert_click&cursor=DAACCgACFrCdoefAJxAKAAMWsJ2h57zywAgABAAAAAILAAUAAAO8QUFBQUFDNk5zd2dBQUFCa0FBQUFBQUFBRlh3QUFBQUhBQUFBVmdBQU1BQVJJQUZNR1FDQUFBQUFJUVFBSXlBQkNvQkFBQUFLQUFSUUFBQUFRS0FCc0lvSXBBUUFOQ0FaQUFnZ1FBQ0FCQUFBQkF3QUFCRUFBQWlCc1JSRWhCQWlGQWdBd2tFaWdBU0FBQUJnQ0NJQ1FBZ0FBQW9FU0NBQWdBZ29LQUFHQVFRUUFBQVNnSUFDQVFBQUNBQUJBQ1FnQVFJQUFFbFFFQVFCQUlDd0FnQUFnQUFBQUFnQUFBUVFBRUFCQVVBQ0pnQUFBQUFBQUJRQUFBQWdBQUNBS0JHUVFBSWdSQkFJQUNBQUFBSVFBQUFrQUFBRUNRQUFrSUFZS1FBWUFBUUVDQWcwSUVRQUFCZ0FBUVFBQ0FFQUFBU0JRQUlBQ1FFZ0lBQVFrQUFRQUFBQUFDSkFBRVFBSHdBQ0FDQUFBQVFBSUFJQWdJRUFBaENBUUFFQkFBQWRDQUFKRUlFQUFDSUNBSUNBUUFFQUFCTVFCQUlRQUlBQUFnQVFJUUFVQVFBRVFBZ2dBQkFpQ0JDQUVBQ0FBRUFBQUU1QUFCTUFTQUFCQkFBQUFpQUFBQUVnQkpJZ0FBWUFBb0FnRUJJd09BQVFFQWdDQUFoZ0FCQUJCUVpBQUFFQ0FFQUFJQUFBQ0FBSkNBSUFDRkNFSUFBZ0FBQVFCd0FHQUFBQ0FBQWdBQUJBU0FDSUlBZ1NFSUFJREJJd2dBQWdrQ0dCSVFJQWdBSTRVQUFCcENBS0lBQkFFQUFnZ0NFRUNBUXhRQkNBT0FFQ0FBZ2dEQUFCQVJnQVFVQUFDSUVBSUFKQUFBZ2pBQUFZQUFBQ2dBQUFBQ0lBUk1Jc0FCS0FzQUFBZ0FBQWdBQ0FBQWdBd0JDQUdCZ1lBQVFEQ0NCd2tBQ0RBUVFBQUFBQUFDQUFSQWdCQUFBZ0FBRUFRQUZBQ1lDQUF3QUFnSUVnVEFBQUFBQUFBS0FJQUNFQUFJSUFBaUFRS0FNUUFBQUNBQlJBRkdBSUFBd0FFeEFRQUFBQkFBRkFBQkFTSUFBUUFnQlFBQUFFQ2dFQUFBSkFBQUlvQ1JDQUFRQ0VBQUJSQUJDSUFDQUNBQUFBQ0FCQUFBRW9nQUFBQUFCQUFRQUNRUkNBVFFJQVVJRUFJaUFnQUVFQkFFZ0dBQUFBQUFBQVFVQUNBQ0NBWXdBRUFBQWdoQUNDWUlNQWdRTUJnUW9CQUFFQUJBb0FBQ0FBZ0FBQUZnQT0IAAYAAAAACAAHAAAAEwwACAoAARUeVt2KFGAAAAAA&pc=1&spelling_corrections=1&include_ext_edit_control=true&ext=mediaStats%2ChighlightedLabel%2ChasNftAvatar%2CvoiceInfo%2Cenrichments%2CsuperFollowMetadata%2CunmentionInfo%2CeditControl%2Ccollab_control%2Cvibe failed, giving up."
     ]
    }
   ],
   "source": [
    "## Run a loop for executing the scrapper code for each influencer in Userlist1 and each keyword to pull out tweets raw data\n",
    "\n",
    "# Using TwitterSearchScraper to scrape data and append tweets to list\n",
    "for i,tweet in enumerate(sntwitter.TwitterSearchScraper('Bitcoin since:2022-01-01 until:2022-12-31 from: natbrunell', top=True).get_items()):\n",
    "    if i>1000:\n",
    "        break\n",
    "tweets_list.append([tweet.date, \n",
    "    tweet.id,\n",
    "    tweet.rawContent,\n",
    "    tweet.user.username,\n",
    "    tweet.likeCount,\n",
    "    tweet.retweetCount])"
   ]
  },
  {
   "cell_type": "code",
   "execution_count": null,
   "id": "de1f80fc",
   "metadata": {},
   "outputs": [],
   "source": [
    "len(tweets_list)"
   ]
  },
  {
   "cell_type": "code",
   "execution_count": 4,
   "id": "7f3b5dde",
   "metadata": {},
   "outputs": [
    {
     "name": "stderr",
     "output_type": "stream",
     "text": [
      "Error retrieving https://api.twitter.com/2/search/adaptive.json?include_profile_interstitial_type=1&include_blocking=1&include_blocked_by=1&include_followed_by=1&include_want_retweets=1&include_mute_edge=1&include_can_dm=1&include_can_media_tag=1&include_ext_has_nft_avatar=1&include_ext_is_blue_verified=1&include_ext_verified_type=1&skip_status=1&cards_platform=Web-12&include_cards=1&include_ext_alt_text=true&include_ext_limited_action_results=false&include_quote_count=true&include_reply_count=1&tweet_mode=extended&include_ext_collab_control=true&include_ext_views=true&include_entities=true&include_user_entities=true&include_ext_media_color=true&include_ext_media_availability=true&include_ext_sensitive_media_warning=true&include_ext_trusted_friends_metadata=true&send_error_codes=true&simple_quoted_tweet=true&q=bitcoin+since%3A2022-01-01+until%3A2022-12-31+from%3Acz_binance&tweet_search_mode=live&count=20&query_source=spelling_expansion_revert_click&cursor=scroll%3AthGAVUV0VFVBaAwNGZzcqk_SoWgoCwxcza1cosEnEVkIJ6FYCJehgEVVNFUjUBFQIVAAA%3D&pc=1&spelling_corrections=1&include_ext_edit_control=true&ext=mediaStats%2ChighlightedLabel%2ChasNftAvatar%2CvoiceInfo%2Cenrichments%2CsuperFollowMetadata%2CunmentionInfo%2CeditControl%2Ccollab_control%2Cvibe: ReadTimeout(ReadTimeoutError(\"HTTPSConnectionPool(host='api.twitter.com', port=443): Read timed out. (read timeout=10)\"))\n",
      "4 requests to https://api.twitter.com/2/search/adaptive.json?include_profile_interstitial_type=1&include_blocking=1&include_blocked_by=1&include_followed_by=1&include_want_retweets=1&include_mute_edge=1&include_can_dm=1&include_can_media_tag=1&include_ext_has_nft_avatar=1&include_ext_is_blue_verified=1&include_ext_verified_type=1&skip_status=1&cards_platform=Web-12&include_cards=1&include_ext_alt_text=true&include_ext_limited_action_results=false&include_quote_count=true&include_reply_count=1&tweet_mode=extended&include_ext_collab_control=true&include_ext_views=true&include_entities=true&include_user_entities=true&include_ext_media_color=true&include_ext_media_availability=true&include_ext_sensitive_media_warning=true&include_ext_trusted_friends_metadata=true&send_error_codes=true&simple_quoted_tweet=true&q=bitcoin+since%3A2022-01-01+until%3A2022-12-31+from%3Acz_binance&tweet_search_mode=live&count=20&query_source=spelling_expansion_revert_click&cursor=scroll%3AthGAVUV0VFVBaAwNGZzcqk_SoWgoCwxcza1cosEnEVkIJ6FYCJehgEVVNFUjUBFQIVAAA%3D&pc=1&spelling_corrections=1&include_ext_edit_control=true&ext=mediaStats%2ChighlightedLabel%2ChasNftAvatar%2CvoiceInfo%2Cenrichments%2CsuperFollowMetadata%2CunmentionInfo%2CeditControl%2Ccollab_control%2Cvibe failed, giving up.\n",
      "Errors: ReadTimeout(ReadTimeoutError(\"HTTPSConnectionPool(host='api.twitter.com', port=443): Read timed out. (read timeout=10)\")), ConnectTimeout(MaxRetryError(\"HTTPSConnectionPool(host='api.twitter.com', port=443): Max retries exceeded with url: /2/search/adaptive.json?include_profile_interstitial_type=1&include_blocking=1&include_blocked_by=1&include_followed_by=1&include_want_retweets=1&include_mute_edge=1&include_can_dm=1&include_can_media_tag=1&include_ext_has_nft_avatar=1&include_ext_is_blue_verified=1&include_ext_verified_type=1&skip_status=1&cards_platform=Web-12&include_cards=1&include_ext_alt_text=true&include_ext_limited_action_results=false&include_quote_count=true&include_reply_count=1&tweet_mode=extended&include_ext_collab_control=true&include_ext_views=true&include_entities=true&include_user_entities=true&include_ext_media_color=true&include_ext_media_availability=true&include_ext_sensitive_media_warning=true&include_ext_trusted_friends_metadata=true&send_error_codes=true&simple_quoted_tweet=true&q=bitcoin+since%3A2022-01-01+until%3A2022-12-31+from%3Acz_binance&tweet_search_mode=live&count=20&query_source=spelling_expansion_revert_click&cursor=scroll%3AthGAVUV0VFVBaAwNGZzcqk_SoWgoCwxcza1cosEnEVkIJ6FYCJehgEVVNFUjUBFQIVAAA%3D&pc=1&spelling_corrections=1&include_ext_edit_control=true&ext=mediaStats%2ChighlightedLabel%2ChasNftAvatar%2CvoiceInfo%2Cenrichments%2CsuperFollowMetadata%2CunmentionInfo%2CeditControl%2Ccollab_control%2Cvibe (Caused by ConnectTimeoutError(<snscrape.base._HTTPSConnection object at 0x7fa4ff9827f0>, 'Connection to api.twitter.com timed out. (connect timeout=10)'))\")), ConnectTimeout(MaxRetryError(\"HTTPSConnectionPool(host='api.twitter.com', port=443): Max retries exceeded with url: /2/search/adaptive.json?include_profile_interstitial_type=1&include_blocking=1&include_blocked_by=1&include_followed_by=1&include_want_retweets=1&include_mute_edge=1&include_can_dm=1&include_can_media_tag=1&include_ext_has_nft_avatar=1&include_ext_is_blue_verified=1&include_ext_verified_type=1&skip_status=1&cards_platform=Web-12&include_cards=1&include_ext_alt_text=true&include_ext_limited_action_results=false&include_quote_count=true&include_reply_count=1&tweet_mode=extended&include_ext_collab_control=true&include_ext_views=true&include_entities=true&include_user_entities=true&include_ext_media_color=true&include_ext_media_availability=true&include_ext_sensitive_media_warning=true&include_ext_trusted_friends_metadata=true&send_error_codes=true&simple_quoted_tweet=true&q=bitcoin+since%3A2022-01-01+until%3A2022-12-31+from%3Acz_binance&tweet_search_mode=live&count=20&query_source=spelling_expansion_revert_click&cursor=scroll%3AthGAVUV0VFVBaAwNGZzcqk_SoWgoCwxcza1cosEnEVkIJ6FYCJehgEVVNFUjUBFQIVAAA%3D&pc=1&spelling_corrections=1&include_ext_edit_control=true&ext=mediaStats%2ChighlightedLabel%2ChasNftAvatar%2CvoiceInfo%2Cenrichments%2CsuperFollowMetadata%2CunmentionInfo%2CeditControl%2Ccollab_control%2Cvibe (Caused by ConnectTimeoutError(<snscrape.base._HTTPSConnection object at 0x7fa4ff940e20>, 'Connection to api.twitter.com timed out. (connect timeout=10)'))\")), ReadTimeout(ReadTimeoutError(\"HTTPSConnectionPool(host='api.twitter.com', port=443): Read timed out. (read timeout=10)\"))\n"
     ]
    },
    {
     "ename": "ScraperException",
     "evalue": "4 requests to https://api.twitter.com/2/search/adaptive.json?include_profile_interstitial_type=1&include_blocking=1&include_blocked_by=1&include_followed_by=1&include_want_retweets=1&include_mute_edge=1&include_can_dm=1&include_can_media_tag=1&include_ext_has_nft_avatar=1&include_ext_is_blue_verified=1&include_ext_verified_type=1&skip_status=1&cards_platform=Web-12&include_cards=1&include_ext_alt_text=true&include_ext_limited_action_results=false&include_quote_count=true&include_reply_count=1&tweet_mode=extended&include_ext_collab_control=true&include_ext_views=true&include_entities=true&include_user_entities=true&include_ext_media_color=true&include_ext_media_availability=true&include_ext_sensitive_media_warning=true&include_ext_trusted_friends_metadata=true&send_error_codes=true&simple_quoted_tweet=true&q=bitcoin+since%3A2022-01-01+until%3A2022-12-31+from%3Acz_binance&tweet_search_mode=live&count=20&query_source=spelling_expansion_revert_click&cursor=scroll%3AthGAVUV0VFVBaAwNGZzcqk_SoWgoCwxcza1cosEnEVkIJ6FYCJehgEVVNFUjUBFQIVAAA%3D&pc=1&spelling_corrections=1&include_ext_edit_control=true&ext=mediaStats%2ChighlightedLabel%2ChasNftAvatar%2CvoiceInfo%2Cenrichments%2CsuperFollowMetadata%2CunmentionInfo%2CeditControl%2Ccollab_control%2Cvibe failed, giving up.",
     "output_type": "error",
     "traceback": [
      "\u001b[0;31m---------------------------------------------------------------------------\u001b[0m",
      "\u001b[0;31mScraperException\u001b[0m                          Traceback (most recent call last)",
      "\u001b[0;32m/var/folders/qb/dvn_6xsj0t75hl1y1_j9r9t80000gn/T/ipykernel_32868/3550578592.py\u001b[0m in \u001b[0;36m<module>\u001b[0;34m\u001b[0m\n\u001b[1;32m      5\u001b[0m \u001b[0;34m\u001b[0m\u001b[0m\n\u001b[1;32m      6\u001b[0m         \u001b[0;31m# Using TwitterSearchScraper to scrape data and append tweets to list\u001b[0m\u001b[0;34m\u001b[0m\u001b[0;34m\u001b[0m\u001b[0m\n\u001b[0;32m----> 7\u001b[0;31m         \u001b[0;32mfor\u001b[0m \u001b[0mi\u001b[0m\u001b[0;34m,\u001b[0m\u001b[0mtweet\u001b[0m \u001b[0;32min\u001b[0m \u001b[0menumerate\u001b[0m\u001b[0;34m(\u001b[0m\u001b[0msntwitter\u001b[0m\u001b[0;34m.\u001b[0m\u001b[0mTwitterSearchScraper\u001b[0m\u001b[0;34m(\u001b[0m\u001b[0mk\u001b[0m\u001b[0;34m+\u001b[0m\u001b[0;34m' since:2022-01-01 until:2022-12-31 from:'\u001b[0m\u001b[0;34m+\u001b[0m\u001b[0mj\u001b[0m\u001b[0;34m)\u001b[0m\u001b[0;34m.\u001b[0m\u001b[0mget_items\u001b[0m\u001b[0;34m(\u001b[0m\u001b[0;34m)\u001b[0m\u001b[0;34m)\u001b[0m\u001b[0;34m:\u001b[0m\u001b[0;34m\u001b[0m\u001b[0;34m\u001b[0m\u001b[0m\n\u001b[0m\u001b[1;32m      8\u001b[0m             \u001b[0;32mif\u001b[0m \u001b[0mi\u001b[0m\u001b[0;34m>\u001b[0m\u001b[0;36m1000\u001b[0m\u001b[0;34m:\u001b[0m\u001b[0;34m\u001b[0m\u001b[0;34m\u001b[0m\u001b[0m\n\u001b[1;32m      9\u001b[0m                 \u001b[0;32mbreak\u001b[0m\u001b[0;34m\u001b[0m\u001b[0;34m\u001b[0m\u001b[0m\n",
      "\u001b[0;32m~/opt/anaconda3/lib/python3.9/site-packages/snscrape/modules/twitter.py\u001b[0m in \u001b[0;36mget_items\u001b[0;34m(self)\u001b[0m\n\u001b[1;32m   1655\u001b[0m                 \u001b[0;32mdel\u001b[0m \u001b[0mparams\u001b[0m\u001b[0;34m[\u001b[0m\u001b[0;34m'cursor'\u001b[0m\u001b[0;34m]\u001b[0m\u001b[0;34m\u001b[0m\u001b[0;34m\u001b[0m\u001b[0m\n\u001b[1;32m   1656\u001b[0m \u001b[0;34m\u001b[0m\u001b[0m\n\u001b[0;32m-> 1657\u001b[0;31m                 \u001b[0;32mfor\u001b[0m \u001b[0mobj\u001b[0m \u001b[0;32min\u001b[0m \u001b[0mself\u001b[0m\u001b[0;34m.\u001b[0m\u001b[0m_iter_api_data\u001b[0m\u001b[0;34m(\u001b[0m\u001b[0;34m'https://api.twitter.com/2/search/adaptive.json'\u001b[0m\u001b[0;34m,\u001b[0m \u001b[0m_TwitterAPIType\u001b[0m\u001b[0;34m.\u001b[0m\u001b[0mV2\u001b[0m\u001b[0;34m,\u001b[0m \u001b[0mparams\u001b[0m\u001b[0;34m,\u001b[0m \u001b[0mpaginationParams\u001b[0m\u001b[0;34m,\u001b[0m \u001b[0mcursor\u001b[0m \u001b[0;34m=\u001b[0m \u001b[0mself\u001b[0m\u001b[0;34m.\u001b[0m\u001b[0m_cursor\u001b[0m\u001b[0;34m)\u001b[0m\u001b[0;34m:\u001b[0m\u001b[0;34m\u001b[0m\u001b[0;34m\u001b[0m\u001b[0m\n\u001b[0m\u001b[1;32m   1658\u001b[0m                         \u001b[0;32myield\u001b[0m \u001b[0;32mfrom\u001b[0m \u001b[0mself\u001b[0m\u001b[0;34m.\u001b[0m\u001b[0m_v2_timeline_instructions_to_tweets_or_users\u001b[0m\u001b[0;34m(\u001b[0m\u001b[0mobj\u001b[0m\u001b[0;34m)\u001b[0m\u001b[0;34m\u001b[0m\u001b[0;34m\u001b[0m\u001b[0m\n\u001b[1;32m   1659\u001b[0m \u001b[0;34m\u001b[0m\u001b[0m\n",
      "\u001b[0;32m~/opt/anaconda3/lib/python3.9/site-packages/snscrape/modules/twitter.py\u001b[0m in \u001b[0;36m_iter_api_data\u001b[0;34m(self, endpoint, apiType, params, paginationParams, cursor, direction)\u001b[0m\n\u001b[1;32m    759\u001b[0m                 \u001b[0;32mwhile\u001b[0m \u001b[0;32mTrue\u001b[0m\u001b[0;34m:\u001b[0m\u001b[0;34m\u001b[0m\u001b[0;34m\u001b[0m\u001b[0m\n\u001b[1;32m    760\u001b[0m                         \u001b[0m_logger\u001b[0m\u001b[0;34m.\u001b[0m\u001b[0minfo\u001b[0m\u001b[0;34m(\u001b[0m\u001b[0;34mf'Retrieving scroll page {cursor}'\u001b[0m\u001b[0;34m)\u001b[0m\u001b[0;34m\u001b[0m\u001b[0;34m\u001b[0m\u001b[0m\n\u001b[0;32m--> 761\u001b[0;31m                         \u001b[0mobj\u001b[0m \u001b[0;34m=\u001b[0m \u001b[0mself\u001b[0m\u001b[0;34m.\u001b[0m\u001b[0m_get_api_data\u001b[0m\u001b[0;34m(\u001b[0m\u001b[0mendpoint\u001b[0m\u001b[0;34m,\u001b[0m \u001b[0mapiType\u001b[0m\u001b[0;34m,\u001b[0m \u001b[0mreqParams\u001b[0m\u001b[0;34m)\u001b[0m\u001b[0;34m\u001b[0m\u001b[0;34m\u001b[0m\u001b[0m\n\u001b[0m\u001b[1;32m    762\u001b[0m                         \u001b[0;32myield\u001b[0m \u001b[0mobj\u001b[0m\u001b[0;34m\u001b[0m\u001b[0;34m\u001b[0m\u001b[0m\n\u001b[1;32m    763\u001b[0m \u001b[0;34m\u001b[0m\u001b[0m\n",
      "\u001b[0;32m~/opt/anaconda3/lib/python3.9/site-packages/snscrape/modules/twitter.py\u001b[0m in \u001b[0;36m_get_api_data\u001b[0;34m(self, endpoint, apiType, params)\u001b[0m\n\u001b[1;32m    725\u001b[0m                 \u001b[0;32mif\u001b[0m \u001b[0mapiType\u001b[0m \u001b[0;32mis\u001b[0m \u001b[0m_TwitterAPIType\u001b[0m\u001b[0;34m.\u001b[0m\u001b[0mGRAPHQL\u001b[0m\u001b[0;34m:\u001b[0m\u001b[0;34m\u001b[0m\u001b[0;34m\u001b[0m\u001b[0m\n\u001b[1;32m    726\u001b[0m                         \u001b[0mparams\u001b[0m \u001b[0;34m=\u001b[0m \u001b[0murllib\u001b[0m\u001b[0;34m.\u001b[0m\u001b[0mparse\u001b[0m\u001b[0;34m.\u001b[0m\u001b[0murlencode\u001b[0m\u001b[0;34m(\u001b[0m\u001b[0;34m{\u001b[0m\u001b[0mk\u001b[0m\u001b[0;34m:\u001b[0m \u001b[0mjson\u001b[0m\u001b[0;34m.\u001b[0m\u001b[0mdumps\u001b[0m\u001b[0;34m(\u001b[0m\u001b[0mv\u001b[0m\u001b[0;34m,\u001b[0m \u001b[0mseparators\u001b[0m \u001b[0;34m=\u001b[0m \u001b[0;34m(\u001b[0m\u001b[0;34m','\u001b[0m\u001b[0;34m,\u001b[0m \u001b[0;34m':'\u001b[0m\u001b[0;34m)\u001b[0m\u001b[0;34m)\u001b[0m \u001b[0;32mfor\u001b[0m \u001b[0mk\u001b[0m\u001b[0;34m,\u001b[0m \u001b[0mv\u001b[0m \u001b[0;32min\u001b[0m \u001b[0mparams\u001b[0m\u001b[0;34m.\u001b[0m\u001b[0mitems\u001b[0m\u001b[0;34m(\u001b[0m\u001b[0;34m)\u001b[0m\u001b[0;34m}\u001b[0m\u001b[0;34m,\u001b[0m \u001b[0mquote_via\u001b[0m \u001b[0;34m=\u001b[0m \u001b[0murllib\u001b[0m\u001b[0;34m.\u001b[0m\u001b[0mparse\u001b[0m\u001b[0;34m.\u001b[0m\u001b[0mquote\u001b[0m\u001b[0;34m)\u001b[0m\u001b[0;34m\u001b[0m\u001b[0;34m\u001b[0m\u001b[0m\n\u001b[0;32m--> 727\u001b[0;31m                 \u001b[0mr\u001b[0m \u001b[0;34m=\u001b[0m \u001b[0mself\u001b[0m\u001b[0;34m.\u001b[0m\u001b[0m_get\u001b[0m\u001b[0;34m(\u001b[0m\u001b[0mendpoint\u001b[0m\u001b[0;34m,\u001b[0m \u001b[0mparams\u001b[0m \u001b[0;34m=\u001b[0m \u001b[0mparams\u001b[0m\u001b[0;34m,\u001b[0m \u001b[0mheaders\u001b[0m \u001b[0;34m=\u001b[0m \u001b[0mself\u001b[0m\u001b[0;34m.\u001b[0m\u001b[0m_apiHeaders\u001b[0m\u001b[0;34m,\u001b[0m \u001b[0mresponseOkCallback\u001b[0m \u001b[0;34m=\u001b[0m \u001b[0mself\u001b[0m\u001b[0;34m.\u001b[0m\u001b[0m_check_api_response\u001b[0m\u001b[0;34m)\u001b[0m\u001b[0;34m\u001b[0m\u001b[0;34m\u001b[0m\u001b[0m\n\u001b[0m\u001b[1;32m    728\u001b[0m                 \u001b[0;32mtry\u001b[0m\u001b[0;34m:\u001b[0m\u001b[0;34m\u001b[0m\u001b[0;34m\u001b[0m\u001b[0m\n\u001b[1;32m    729\u001b[0m                         \u001b[0mobj\u001b[0m \u001b[0;34m=\u001b[0m \u001b[0mr\u001b[0m\u001b[0;34m.\u001b[0m\u001b[0mjson\u001b[0m\u001b[0;34m(\u001b[0m\u001b[0;34m)\u001b[0m\u001b[0;34m\u001b[0m\u001b[0;34m\u001b[0m\u001b[0m\n",
      "\u001b[0;32m~/opt/anaconda3/lib/python3.9/site-packages/snscrape/base.py\u001b[0m in \u001b[0;36m_get\u001b[0;34m(self, *args, **kwargs)\u001b[0m\n\u001b[1;32m    249\u001b[0m \u001b[0;34m\u001b[0m\u001b[0m\n\u001b[1;32m    250\u001b[0m         \u001b[0;32mdef\u001b[0m \u001b[0m_get\u001b[0m\u001b[0;34m(\u001b[0m\u001b[0mself\u001b[0m\u001b[0;34m,\u001b[0m \u001b[0;34m*\u001b[0m\u001b[0margs\u001b[0m\u001b[0;34m,\u001b[0m \u001b[0;34m**\u001b[0m\u001b[0mkwargs\u001b[0m\u001b[0;34m)\u001b[0m\u001b[0;34m:\u001b[0m\u001b[0;34m\u001b[0m\u001b[0;34m\u001b[0m\u001b[0m\n\u001b[0;32m--> 251\u001b[0;31m                 \u001b[0;32mreturn\u001b[0m \u001b[0mself\u001b[0m\u001b[0;34m.\u001b[0m\u001b[0m_request\u001b[0m\u001b[0;34m(\u001b[0m\u001b[0;34m'GET'\u001b[0m\u001b[0;34m,\u001b[0m \u001b[0;34m*\u001b[0m\u001b[0margs\u001b[0m\u001b[0;34m,\u001b[0m \u001b[0;34m**\u001b[0m\u001b[0mkwargs\u001b[0m\u001b[0;34m)\u001b[0m\u001b[0;34m\u001b[0m\u001b[0;34m\u001b[0m\u001b[0m\n\u001b[0m\u001b[1;32m    252\u001b[0m \u001b[0;34m\u001b[0m\u001b[0m\n\u001b[1;32m    253\u001b[0m         \u001b[0;32mdef\u001b[0m \u001b[0m_post\u001b[0m\u001b[0;34m(\u001b[0m\u001b[0mself\u001b[0m\u001b[0;34m,\u001b[0m \u001b[0;34m*\u001b[0m\u001b[0margs\u001b[0m\u001b[0;34m,\u001b[0m \u001b[0;34m**\u001b[0m\u001b[0mkwargs\u001b[0m\u001b[0;34m)\u001b[0m\u001b[0;34m:\u001b[0m\u001b[0;34m\u001b[0m\u001b[0;34m\u001b[0m\u001b[0m\n",
      "\u001b[0;32m~/opt/anaconda3/lib/python3.9/site-packages/snscrape/base.py\u001b[0m in \u001b[0;36m_request\u001b[0;34m(self, method, url, params, data, headers, timeout, responseOkCallback, allowRedirects, proxies)\u001b[0m\n\u001b[1;32m    245\u001b[0m                         \u001b[0m_logger\u001b[0m\u001b[0;34m.\u001b[0m\u001b[0mfatal\u001b[0m\u001b[0;34m(\u001b[0m\u001b[0mmsg\u001b[0m\u001b[0;34m)\u001b[0m\u001b[0;34m\u001b[0m\u001b[0;34m\u001b[0m\u001b[0m\n\u001b[1;32m    246\u001b[0m                         \u001b[0m_logger\u001b[0m\u001b[0;34m.\u001b[0m\u001b[0mfatal\u001b[0m\u001b[0;34m(\u001b[0m\u001b[0;34mf'Errors: {\", \".join(errors)}'\u001b[0m\u001b[0;34m)\u001b[0m\u001b[0;34m\u001b[0m\u001b[0;34m\u001b[0m\u001b[0m\n\u001b[0;32m--> 247\u001b[0;31m                         \u001b[0;32mraise\u001b[0m \u001b[0mScraperException\u001b[0m\u001b[0;34m(\u001b[0m\u001b[0mmsg\u001b[0m\u001b[0;34m)\u001b[0m\u001b[0;34m\u001b[0m\u001b[0;34m\u001b[0m\u001b[0m\n\u001b[0m\u001b[1;32m    248\u001b[0m                 \u001b[0;32mraise\u001b[0m \u001b[0mRuntimeError\u001b[0m\u001b[0;34m(\u001b[0m\u001b[0;34m'Reached unreachable code'\u001b[0m\u001b[0;34m)\u001b[0m\u001b[0;34m\u001b[0m\u001b[0;34m\u001b[0m\u001b[0m\n\u001b[1;32m    249\u001b[0m \u001b[0;34m\u001b[0m\u001b[0m\n",
      "\u001b[0;31mScraperException\u001b[0m: 4 requests to https://api.twitter.com/2/search/adaptive.json?include_profile_interstitial_type=1&include_blocking=1&include_blocked_by=1&include_followed_by=1&include_want_retweets=1&include_mute_edge=1&include_can_dm=1&include_can_media_tag=1&include_ext_has_nft_avatar=1&include_ext_is_blue_verified=1&include_ext_verified_type=1&skip_status=1&cards_platform=Web-12&include_cards=1&include_ext_alt_text=true&include_ext_limited_action_results=false&include_quote_count=true&include_reply_count=1&tweet_mode=extended&include_ext_collab_control=true&include_ext_views=true&include_entities=true&include_user_entities=true&include_ext_media_color=true&include_ext_media_availability=true&include_ext_sensitive_media_warning=true&include_ext_trusted_friends_metadata=true&send_error_codes=true&simple_quoted_tweet=true&q=bitcoin+since%3A2022-01-01+until%3A2022-12-31+from%3Acz_binance&tweet_search_mode=live&count=20&query_source=spelling_expansion_revert_click&cursor=scroll%3AthGAVUV0VFVBaAwNGZzcqk_SoWgoCwxcza1cosEnEVkIJ6FYCJehgEVVNFUjUBFQIVAAA%3D&pc=1&spelling_corrections=1&include_ext_edit_control=true&ext=mediaStats%2ChighlightedLabel%2ChasNftAvatar%2CvoiceInfo%2Cenrichments%2CsuperFollowMetadata%2CunmentionInfo%2CeditControl%2Ccollab_control%2Cvibe failed, giving up."
     ]
    }
   ],
   "source": [
    "## Run a loop for executing the scrapper code for each influencer in Userlist1 and each keyword to pull out tweets raw data\n",
    "\n",
    "for j in user_list1:\n",
    "    for k in search_text:\n",
    "        \n",
    "        # Using TwitterSearchScraper to scrape data and append tweets to list\n",
    "        for i,tweet in enumerate(sntwitter.TwitterSearchScraper(k+' since:2022-01-01 until:2022-12-31 from:'+j).get_items()):\n",
    "            if i>1000:\n",
    "                break\n",
    "        tweets_list.append([tweet.date, \n",
    "            tweet.id,\n",
    "            tweet.rawContent,\n",
    "            tweet.user.username,\n",
    "            tweet.likeCount,\n",
    "            tweet.retweetCount])\n",
    "    \n"
   ]
  },
  {
   "cell_type": "code",
   "execution_count": null,
   "id": "e9f8abd4",
   "metadata": {},
   "outputs": [],
   "source": [
    "len(tweets_list)"
   ]
  },
  {
   "cell_type": "code",
   "execution_count": null,
   "id": "ac9e8af4",
   "metadata": {},
   "outputs": [],
   "source": [
    "## Run a loop for executing the scrapper code for each influencer in Userlist2 and each keyword to pull out tweets raw data\n",
    "\n",
    "for j in user_list2:\n",
    "    for k in search_text:\n",
    "        \n",
    "        # Using TwitterSearchScraper to scrape data and append tweets to list\n",
    "        for i,tweet in enumerate(sntwitter.TwitterSearchScraper(k+' since:2022-01-01 until:2022-12-31 from:'+j).get_items()):\n",
    "            if i>10000:\n",
    "                break\n",
    "        tweets_list.append([tweet.date, \n",
    "            tweet.id,\n",
    "            tweet.rawContent,\n",
    "            tweet.user.username,\n",
    "            tweet.likeCount,\n",
    "            tweet.retweetCount])"
   ]
  },
  {
   "cell_type": "code",
   "execution_count": null,
   "id": "0c4497c0",
   "metadata": {},
   "outputs": [],
   "source": [
    "## Run a loop for executing the scrapper code for each influencer in Userlist3 and each keyword to pull out tweets raw data\n",
    "\n",
    "for j in user_list3:\n",
    "    for k in search_text:\n",
    "        \n",
    "        # Using TwitterSearchScraper to scrape data and append tweets to list\n",
    "        for i,tweet in enumerate(sntwitter.TwitterSearchScraper(k+' since:2022-01-01 until:2022-12-31 from:'+j).get_items()):\n",
    "            if i>10000:\n",
    "                break\n",
    "        tweets_list.append([tweet.date, \n",
    "            tweet.id,\n",
    "            tweet.rawContent,\n",
    "            tweet.user.username,\n",
    "            tweet.likeCount,\n",
    "            tweet.retweetCount])"
   ]
  },
  {
   "cell_type": "code",
   "execution_count": null,
   "id": "4400ddf9",
   "metadata": {},
   "outputs": [],
   "source": [
    "## Run a loop for executing the scrapper code for each influencer in Userlist4 and each keyword to pull out tweets raw data\n",
    "\n",
    "for j in user_list4:\n",
    "    for k in search_text:\n",
    "        \n",
    "        # Using TwitterSearchScraper to scrape data and append tweets to list\n",
    "        for i,tweet in enumerate(sntwitter.TwitterSearchScraper(k+' since:2022-01-01 until:2022-12-31 from:'+j).get_items()):\n",
    "            if i>10000:\n",
    "                break\n",
    "        tweets_list.append([tweet.date, \n",
    "            tweet.id,\n",
    "            tweet.rawContent,\n",
    "            tweet.user.username,\n",
    "            tweet.likeCount,\n",
    "            tweet.retweetCount])"
   ]
  },
  {
   "cell_type": "code",
   "execution_count": null,
   "id": "bae79cca",
   "metadata": {},
   "outputs": [],
   "source": [
    "## Run a loop for executing the scrapper code for each influencer in Userlist5 and each keyword to pull out tweets raw data\n",
    "\n",
    "for j in user_list5:\n",
    "    for k in search_text:\n",
    "        \n",
    "        # Using TwitterSearchScraper to scrape data and append tweets to list\n",
    "        for i,tweet in enumerate(sntwitter.TwitterSearchScraper(k+' since:2022-01-01 until:2022-12-31 from:'+j).get_items()):\n",
    "            if i>10000:\n",
    "                break\n",
    "        tweets_list.append([tweet.date, \n",
    "            tweet.id,\n",
    "            tweet.rawContent,\n",
    "            tweet.user.username,\n",
    "            tweet.likeCount,\n",
    "            tweet.retweetCount])"
   ]
  },
  {
   "cell_type": "code",
   "execution_count": null,
   "id": "c9972581",
   "metadata": {},
   "outputs": [],
   "source": [
    "# Creating a dataframe from the tweets list above \n",
    "tweets_df = pd.DataFrame(tweets_list, columns=['Datetime', 'Tweet Id', 'Text', 'Username', 'Likes', 'Retweet'])"
   ]
  },
  {
   "cell_type": "code",
   "execution_count": null,
   "id": "bf17d04c",
   "metadata": {},
   "outputs": [],
   "source": [
    "tweets_list"
   ]
  },
  {
   "cell_type": "code",
   "execution_count": null,
   "id": "a618d98d",
   "metadata": {},
   "outputs": [],
   "source": [
    "len(tweets_df)"
   ]
  },
  {
   "cell_type": "code",
   "execution_count": null,
   "id": "883d0ae4",
   "metadata": {},
   "outputs": [],
   "source": [
    "tweets_df"
   ]
  },
  {
   "cell_type": "code",
   "execution_count": null,
   "id": "9e5168dc",
   "metadata": {},
   "outputs": [],
   "source": [
    "tweets_df.head(20)"
   ]
  },
  {
   "cell_type": "code",
   "execution_count": null,
   "id": "0e4cee6d",
   "metadata": {},
   "outputs": [],
   "source": [
    "df = tweets_df.drop_duplicates(subset=\"Tweet Id\", keep='first', inplace=False)"
   ]
  },
  {
   "cell_type": "code",
   "execution_count": null,
   "id": "54bea95d",
   "metadata": {},
   "outputs": [],
   "source": [
    "len(df)"
   ]
  },
  {
   "cell_type": "code",
   "execution_count": null,
   "id": "6d10c5e6",
   "metadata": {},
   "outputs": [],
   "source": [
    "df.to_csv('CryptoInfluencersTweetsData.csv',index=False,header=True)"
   ]
  },
  {
   "cell_type": "markdown",
   "id": "3e1fdc69",
   "metadata": {},
   "source": [
    "## VADER Sentiment Analysis of Twitter Data Collected"
   ]
  },
  {
   "cell_type": "code",
   "execution_count": null,
   "id": "0d0b6fac",
   "metadata": {},
   "outputs": [],
   "source": [
    "from vaderSentiment.vaderSentiment import SentimentIntensityAnalyzer\n",
    "\n",
    "# initialize the sentiment analyzer\n",
    "analyser = SentimentIntensityAnalyzer()"
   ]
  },
  {
   "cell_type": "code",
   "execution_count": null,
   "id": "f3487d2b",
   "metadata": {},
   "outputs": [],
   "source": [
    "#Create Function to perform sentiment analysis and get the compound score for each tweet\n",
    "def sentiment_analyzer_scores(sentence):\n",
    "    score = analyser.polarity_scores(sentence)\n",
    "    return(score[\"compound\"])"
   ]
  },
  {
   "cell_type": "code",
   "execution_count": null,
   "id": "19f1d79c",
   "metadata": {},
   "outputs": [],
   "source": [
    "#Add a New column as Score to twitter Dataset\n",
    "#Get the compound Score of each raw tweet\n",
    "tweets_df['score'] = tweets_df['Text'].apply(lambda x : sentiment_analyzer_scores(x))\n",
    "tweets_df.head()"
   ]
  },
  {
   "cell_type": "code",
   "execution_count": null,
   "id": "a786c784",
   "metadata": {},
   "outputs": [],
   "source": [
    "df1.sort_values(by='Datetime',inplace=True)\n",
    "df1.head()"
   ]
  },
  {
   "cell_type": "code",
   "execution_count": null,
   "id": "5443351d",
   "metadata": {},
   "outputs": [],
   "source": [
    "df1['datetime'] = df1['Datetime'].apply(lambda x : x.strftime(\"%Y-%m-%d %H:%M:%S\"))\n",
    "df1.head()"
   ]
  },
  {
   "cell_type": "code",
   "execution_count": null,
   "id": "4e15df17",
   "metadata": {},
   "outputs": [],
   "source": [
    "#Add a new Column Date\n",
    "df1['date'] = pd.to_datetime(df1['datetime']).dt.strftime(\"%d-%m-%Y\")\n",
    "df1.head()"
   ]
  },
  {
   "cell_type": "code",
   "execution_count": null,
   "id": "e8bb3600",
   "metadata": {},
   "outputs": [],
   "source": [
    "df1.to_csv('CryptoInfluencersTweetsDatawithScore.csv',index=False,header=True)"
   ]
  },
  {
   "cell_type": "code",
   "execution_count": null,
   "id": "a5b4d5c0",
   "metadata": {},
   "outputs": [],
   "source": []
  },
  {
   "cell_type": "code",
   "execution_count": null,
   "id": "4eadc313",
   "metadata": {},
   "outputs": [],
   "source": []
  }
 ],
 "metadata": {
  "kernelspec": {
   "display_name": "Python 3 (ipykernel)",
   "language": "python",
   "name": "python3"
  },
  "language_info": {
   "codemirror_mode": {
    "name": "ipython",
    "version": 3
   },
   "file_extension": ".py",
   "mimetype": "text/x-python",
   "name": "python",
   "nbconvert_exporter": "python",
   "pygments_lexer": "ipython3",
   "version": "3.9.7"
  }
 },
 "nbformat": 4,
 "nbformat_minor": 5
}
